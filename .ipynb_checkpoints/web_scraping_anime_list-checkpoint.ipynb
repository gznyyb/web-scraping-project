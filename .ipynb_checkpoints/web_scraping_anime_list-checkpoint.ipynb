{
 "cells": [
  {
   "cell_type": "code",
   "execution_count": 2,
   "metadata": {},
   "outputs": [],
   "source": [
    "from bs4 import BeautifulSoup\n",
    "import requests\n",
    "import pandas as pd\n",
    "from time import sleep, time\n",
    "from random import randint\n",
    "from IPython.core.display import clear_output\n",
    "import numpy as np\n",
    "import matplotlib.pyplot as plt"
   ]
  },
  {
   "cell_type": "code",
   "execution_count": 159,
   "metadata": {},
   "outputs": [],
   "source": [
    "def scraper(tot_page_num, pause_sec, start_site_string, is_clear_output=True):\n",
    "    \n",
    "    start_time = time()\n",
    "    num_request = 0\n",
    "    page_num = 1\n",
    "    anime_num = 0\n",
    "\n",
    "    anime_dataset_columns = ['anime', 'score', 'popularity',\n",
    "                             'season_start', 'year_start', 'season_end', 'year_end',\n",
    "                             'num_episodes', 'anime_type']\n",
    "    anime_dataset = pd.DataFrame(columns=anime_dataset_columns)\n",
    "\n",
    "    source = requests.get(start_site_string).text\n",
    "    soup = BeautifulSoup(source, 'lxml')\n",
    "    num_request += 1\n",
    "    sleep(pause_sec)\n",
    "\n",
    "    while True:\n",
    "\n",
    "        for anime in soup.find_all('tr', class_='ranking-list'):\n",
    "\n",
    "            # get information about the anime\n",
    "            info_list = anime.find('div', class_='information di-ib mt4').text.strip().split()\n",
    "\n",
    "            if len(info_list) == 10:\n",
    "\n",
    "                # get the title of the anime\n",
    "                anime_code = anime.find('a', class_='hoverinfo_trigger fl-l fs14 fw-b')\n",
    "                anime_name = anime_code.text if anime_code is not None else np.nan\n",
    "\n",
    "                # get the anime score\n",
    "                score_code = anime.find('span', class_='text on')\n",
    "                score = score_code.text if score_code is not None else np.nan\n",
    "\n",
    "                anime_type = info_list[0]\n",
    "                num_episodes = int(info_list[1].split('(')[-1].replace('?', '-500'))\n",
    "                season_start, season_end = info_list[3], info_list[6]\n",
    "                year_start, year_end = int(info_list[4]), int(info_list[7])\n",
    "                popularity = int(info_list[-2].replace(',', ''))\n",
    "                \n",
    "                all_info_list = [anime_name, score, popularity,\n",
    "                                 season_start, year_start, season_end, year_end,\n",
    "                                 num_episodes, anime_type]\n",
    "                info_dict = {column_name: info for column_name, info in zip(anime_dataset_columns, all_info_list)}\n",
    "                anime_dataset = anime_dataset.append(info_dict, ignore_index=True)\n",
    "\n",
    "            else:\n",
    "                continue\n",
    "        \n",
    "        time_elapsed = time() - start_time\n",
    "        print('processed {0:.3f} requests/s'.format(num_request/time_elapsed))\n",
    "\n",
    "        print('{}/{} pages processed'.format(page_num, tot_page_num))\n",
    "        \n",
    "        if page_num == tot_page_num:\n",
    "            print('terminated because total page specified reached')\n",
    "            break\n",
    "\n",
    "        # request the next page\n",
    "        try: \n",
    "            next_code = soup.find('a', class_='link-blue-box next')\n",
    "            source = requests.get(site_string + next_code['href']).text\n",
    "            soup = BeautifulSoup(source, 'lxml')\n",
    "    \n",
    "        except: \n",
    "            print('terminated because no more pages can be accessed from the website')\n",
    "            break\n",
    "\n",
    "        num_request += 1\n",
    "        sleep(pause_sec)\n",
    "\n",
    "        # clear output\n",
    "        if is_clear_output:\n",
    "            clear_output(wait=True)\n",
    "\n",
    "        page_num += 1\n",
    "        \n",
    "    return anime_dataset"
   ]
  },
  {
   "cell_type": "code",
   "execution_count": 160,
   "metadata": {
    "scrolled": false
   },
   "outputs": [
    {
     "name": "stdout",
     "output_type": "stream",
     "text": [
      "processed 0.123 requests/s\n",
      "318/400 pages processed\n",
      "terminated because no more pages can be accessed from the website\n"
     ]
    }
   ],
   "source": [
    "tot_page_num = 400\n",
    "pause_sec = 6\n",
    "\n",
    "start_site_string = 'https://myanimelist.net/topanime.php'\n",
    "anime_dataset = scraper(tot_page_num, pause_sec, start_site_string)"
   ]
  },
  {
   "cell_type": "code",
   "execution_count": 166,
   "metadata": {},
   "outputs": [],
   "source": [
    "anime_dataset.to_csv('../anime_dataset.csv')"
   ]
  },
  {
   "cell_type": "code",
   "execution_count": 3,
   "metadata": {
    "scrolled": false
   },
   "outputs": [],
   "source": [
    "anime_dataset = pd.read_csv('../anime_dataset.csv')"
   ]
  },
  {
   "cell_type": "code",
   "execution_count": 5,
   "metadata": {},
   "outputs": [
    {
     "data": {
      "image/png": "[encoded data removed]",
      "text/plain": [
       "<Figure size 792x648 with 1 Axes>"
      ]
     },
     "metadata": {
      "needs_background": "light"
     },
     "output_type": "display_data"
    }
   ],
   "source": [
    "anime_dataset.score.hist(bins=20, figsize=(11,9))\n",
    "plt.show()"
   ]
  },
  {
   "cell_type": "code",
   "execution_count": null,
   "metadata": {},
   "outputs": [],
   "source": []
  }
 ],
 "metadata": {
  "kernelspec": {
   "display_name": "Python 3",
   "language": "python",
   "name": "python3"
  },
  "language_info": {
   "codemirror_mode": {
    "name": "ipython",
    "version": 3
   },
   "file_extension": ".py",
   "mimetype": "text/x-python",
   "name": "python",
   "nbconvert_exporter": "python",
   "pygments_lexer": "ipython3",
   "version": "3.7.2"
  }
 },
 "nbformat": 4,
 "nbformat_minor": 2
}
